{
 "cells": [
  {
   "cell_type": "code",
   "execution_count": 1,
   "metadata": {},
   "outputs": [],
   "source": [
    "import boto3\n",
    "import xmltodict as xml\n",
    "import tempfile\n",
    "from pprint import pprint\n",
    "\n",
    "# Uncomment this line to use in production\n",
    "# endpoint_url = 'https://mturk-requester.us-east-1.amazonaws.com'\n",
    "\n",
    "region_name = 'us-east-1'\n",
    "endpoint_url = 'https://mturk-requester-sandbox.us-east-1.amazonaws.com'\n",
    "bucket='pgdp-3-bucket'\n",
    "target_bucket='pgdp-mturk-selected'"
   ]
  },
  {
   "cell_type": "code",
   "execution_count": 2,
   "metadata": {},
   "outputs": [],
   "source": [
    "def aws_clients(aws_access_key_id, aws_secret_access_key):\n",
    "        \n",
    "    mturk_client = boto3.client(\n",
    "    'mturk',\n",
    "    endpoint_url=endpoint_url,\n",
    "    region_name=region_name,\n",
    "    aws_access_key_id=aws_access_key_id,\n",
    "    aws_secret_access_key=aws_secret_access_key)\n",
    "    \n",
    "    print(\"MTurk Client Created\")\n",
    "    \n",
    "    s3_client = boto3.client(\n",
    "    's3',\n",
    "    region_name=region_name,\n",
    "    aws_access_key_id=aws_access_key_id,\n",
    "    aws_secret_access_key=aws_secret_access_key)\n",
    "    \n",
    "    print(\"S3 Client Created\")\n",
    "    \n",
    "    return mturk_client, s3_client"
   ]
  },
  {
   "cell_type": "code",
   "execution_count": 3,
   "metadata": {},
   "outputs": [
    {
     "name": "stdout",
     "output_type": "stream",
     "text": [
      "MTurk Client Created\n",
      "S3 Client Created\n"
     ]
    }
   ],
   "source": [
    "mturk_client, s3_client = aws_clients()"
   ]
  },
  {
   "cell_type": "code",
   "execution_count": 4,
   "metadata": {
    "scrolled": false
   },
   "outputs": [],
   "source": [
    "response = s3_client.list_objects_v2(Bucket=bucket)\n",
    "track_hits=[]\n",
    "for ele in response['Contents']:\n",
    "    #print(ele['Key'])\n",
    "    tag_response = s3_client.get_object_tagging(Bucket=bucket, Key=ele['Key'])\n",
    "    if not tag_response['TagSet']:\n",
    "        create_hit_resp = mturk_client.create_hit(\n",
    "                            MaxAssignments=2,\n",
    "                            LifetimeInSeconds=72000,\n",
    "                            AssignmentDurationInSeconds=3600,\n",
    "                            Reward='0.10',\n",
    "                            Title='License Plate Identification',\n",
    "                            Description='License Plate Identification',\n",
    "                            HITLayoutId='3P8MHVAMIX6K1ZERMHKAGCB2Z59HI5',\n",
    "                            HITLayoutParameters=[{'Name':'image_url', 'Value':f\"https://{bucket}.s3.amazonaws.com/{ele['Key']}\"}]\n",
    "                            )\n",
    "        s3_client.put_object_tagging(Bucket=bucket, Key=ele['Key'], Tagging={'TagSet':[{'Key':'sent_to_mturk', 'Value':'True'}]})\n",
    "        track_hits.append({ create_hit_resp['HIT']['HITId']:ele['Key'] })"
   ]
  },
  {
   "cell_type": "code",
   "execution_count": 5,
   "metadata": {},
   "outputs": [
    {
     "data": {
      "text/plain": [
       "[]"
      ]
     },
     "execution_count": 5,
     "metadata": {},
     "output_type": "execute_result"
    }
   ],
   "source": [
    "track_hits"
   ]
  },
  {
   "cell_type": "code",
   "execution_count": 23,
   "metadata": {},
   "outputs": [
    {
     "name": "stdout",
     "output_type": "stream",
     "text": [
      "[{'HITId': '30UZJB2POHQBE808VHR94L8PW8953H'},\n",
      " {'HITId': '39TX062QX12KGRKI1NA4W4Z8O3IX37'},\n",
      " {'HITId': '3DA79LNS599DZABYWD9771E2B7UT3K'},\n",
      " {'HITId': '3ZICQFRS31WA6FRQNCTYXQKYBYFZZ3'},\n",
      " {'HITId': '3OLZC0DJ8JT725X6MBG9CP4CRA7VI2'},\n",
      " {'HITId': '37G6BXQPLQZ3HSZ34TW8LN7CIPLQEU'},\n",
      " {'HITId': '3MYASTQBG7PYPML38YLOF5PRIDKQD1'},\n",
      " {'HITId': '3TLFH2L6Y92OESFFSDV2OR9A5TUT29'},\n",
      " {'HITId': '3KLL7H3EGDF76AMMGTYOCD3XRXSVH9'},\n",
      " {'HITId': '371QPA24C22HP7XJ99VOJ8Z5DNGT1S'}]\n"
     ]
    }
   ],
   "source": [
    "#track_hits=[{'30UZJB2POHQBE808VHR94L8PW8953H': '31.jpg'}]\n",
    "#r= mturk_client.get_hit(HITId='30UZJB2POHQBE808VHR94L8PW8953H')\n",
    "r=mturk_client.list_reviewable_hits()\n",
    "from pprint import pprint\n",
    "pprint(r['HITs'])"
   ]
  },
  {
   "cell_type": "code",
   "execution_count": 21,
   "metadata": {},
   "outputs": [
    {
     "data": {
      "text/plain": [
       "{'AssignmentId': '3OJSZ2ATDTAW1BZPNVZ15MGL5VQ75W',\n",
       " 'WorkerId': 'A3HNG9AAEZKB19',\n",
       " 'HITId': '30UZJB2POHQBE808VHR94L8PW8953H',\n",
       " 'AssignmentStatus': 'Submitted',\n",
       " 'AutoApprovalTime': datetime.datetime(2019, 12, 31, 15, 0, 33, tzinfo=tzlocal()),\n",
       " 'AcceptTime': datetime.datetime(2019, 12, 1, 15, 0, 9, tzinfo=tzlocal()),\n",
       " 'SubmitTime': datetime.datetime(2019, 12, 1, 15, 0, 33, tzinfo=tzlocal()),\n",
       " 'Answer': '<?xml version=\"1.0\" encoding=\"ASCII\"?><QuestionFormAnswers xmlns=\"http://mechanicalturk.amazonaws.com/AWSMechanicalTurkDataSchemas/2005-10-01/QuestionFormAnswers.xsd\"><Answer><QuestionIdentifier>Multiple.m</QuestionIdentifier><FreeText>false</FreeText></Answer><Answer><QuestionIdentifier>Other.o</QuestionIdentifier><FreeText>false</FreeText></Answer><Answer><QuestionIdentifier>Single.s</QuestionIdentifier><FreeText>true</FreeText></Answer><Answer><QuestionIdentifier>tag1</QuestionIdentifier><FreeText>A193958</FreeText></Answer></QuestionFormAnswers>'}"
      ]
     },
     "execution_count": 21,
     "metadata": {},
     "output_type": "execute_result"
    }
   ],
   "source": [
    "mturk_client.list_assignments_for_hit(HITId='30UZJB2POHQBE808VHR94L8PW8953H')['Assignments'][0]"
   ]
  },
  {
   "cell_type": "code",
   "execution_count": 24,
   "metadata": {},
   "outputs": [
    {
     "name": "stdout",
     "output_type": "stream",
     "text": [
      "[OrderedDict([('QuestionIdentifier', 'Multiple.m'), ('FreeText', 'false')]), OrderedDict([('QuestionIdentifier', 'Other.o'), ('FreeText', 'false')]), OrderedDict([('QuestionIdentifier', 'Single.s'), ('FreeText', 'true')]), OrderedDict([('QuestionIdentifier', 'tag1'), ('FreeText', 'A193958')])]\n",
      "Multiple.m false\n",
      "Other.o false\n",
      "Single.s true\n",
      "tag1 A193958\n",
      "Update Databse for HIT A193958 None\n",
      "[OrderedDict([('QuestionIdentifier', 'Multiple.m'), ('FreeText', 'false')]), OrderedDict([('QuestionIdentifier', 'Other.o'), ('FreeText', 'false')]), OrderedDict([('QuestionIdentifier', 'Single.s'), ('FreeText', 'true')]), OrderedDict([('QuestionIdentifier', 'tag1'), ('FreeText', 'A193958')])]\n",
      "Multiple.m false\n",
      "Other.o false\n",
      "Single.s true\n",
      "tag1 A193958\n",
      "Update Databse for HIT A193958 A193958\n",
      "[OrderedDict([('QuestionIdentifier', 'Multiple.m'), ('FreeText', 'false')]), OrderedDict([('QuestionIdentifier', 'Other.o'), ('FreeText', 'false')]), OrderedDict([('QuestionIdentifier', 'Single.s'), ('FreeText', 'true')]), OrderedDict([('QuestionIdentifier', 'tag1'), ('FreeText', 'A193958')])]\n",
      "Multiple.m false\n",
      "Other.o false\n",
      "Single.s true\n",
      "tag1 A193958\n",
      "Update Databse for HIT A193958 None\n",
      "[OrderedDict([('QuestionIdentifier', 'Multiple.m'), ('FreeText', 'false')]), OrderedDict([('QuestionIdentifier', 'Other.o'), ('FreeText', 'false')]), OrderedDict([('QuestionIdentifier', 'Single.s'), ('FreeText', 'true')]), OrderedDict([('QuestionIdentifier', 'tag1'), ('FreeText', 'A193958')])]\n",
      "Multiple.m false\n",
      "Other.o false\n",
      "Single.s true\n",
      "tag1 A193958\n",
      "Update Databse for HIT A193958 None\n",
      "[OrderedDict([('QuestionIdentifier', 'Multiple.m'), ('FreeText', 'false')]), OrderedDict([('QuestionIdentifier', 'Other.o'), ('FreeText', 'false')]), OrderedDict([('QuestionIdentifier', 'Single.s'), ('FreeText', 'true')]), OrderedDict([('QuestionIdentifier', 'tag1'), ('FreeText', 'A193958')])]\n",
      "Multiple.m false\n",
      "Other.o false\n",
      "Single.s true\n",
      "tag1 A193958\n",
      "Update Databse for HIT A193958 None\n",
      "[OrderedDict([('QuestionIdentifier', 'Multiple.m'), ('FreeText', 'false')]), OrderedDict([('QuestionIdentifier', 'Other.o'), ('FreeText', 'false')]), OrderedDict([('QuestionIdentifier', 'Single.s'), ('FreeText', 'true')]), OrderedDict([('QuestionIdentifier', 'tag1'), ('FreeText', 'A193958')])]\n",
      "Multiple.m false\n",
      "Other.o false\n",
      "Single.s true\n",
      "tag1 A193958\n",
      "Update Databse for HIT A193958 None\n",
      "[OrderedDict([('QuestionIdentifier', 'Multiple.m'), ('FreeText', 'false')]), OrderedDict([('QuestionIdentifier', 'Other.o'), ('FreeText', 'false')]), OrderedDict([('QuestionIdentifier', 'Single.s'), ('FreeText', 'true')]), OrderedDict([('QuestionIdentifier', 'tag1'), ('FreeText', 'A193958')])]\n",
      "Multiple.m false\n",
      "Other.o false\n",
      "Single.s true\n",
      "tag1 A193958\n",
      "Update Databse for HIT A193958 None\n",
      "[OrderedDict([('QuestionIdentifier', 'Multiple.m'), ('FreeText', 'false')]), OrderedDict([('QuestionIdentifier', 'Other.o'), ('FreeText', 'false')]), OrderedDict([('QuestionIdentifier', 'Single.s'), ('FreeText', 'true')]), OrderedDict([('QuestionIdentifier', 'tag1'), ('FreeText', 'A193958')])]\n",
      "Multiple.m false\n",
      "Other.o false\n",
      "Single.s true\n",
      "tag1 A193958\n",
      "Update Databse for HIT A193958 None\n",
      "[OrderedDict([('QuestionIdentifier', 'Multiple.m'), ('FreeText', 'false')]), OrderedDict([('QuestionIdentifier', 'Other.o'), ('FreeText', 'false')]), OrderedDict([('QuestionIdentifier', 'Single.s'), ('FreeText', 'true')]), OrderedDict([('QuestionIdentifier', 'tag1'), ('FreeText', 'A193958')])]\n",
      "Multiple.m false\n",
      "Other.o false\n",
      "Single.s true\n",
      "tag1 A193958\n",
      "Update Databse for HIT A193958 None\n",
      "[OrderedDict([('QuestionIdentifier', 'Multiple.m'), ('FreeText', 'false')]), OrderedDict([('QuestionIdentifier', 'Other.o'), ('FreeText', 'false')]), OrderedDict([('QuestionIdentifier', 'Single.s'), ('FreeText', 'true')]), OrderedDict([('QuestionIdentifier', 'tag1'), ('FreeText', 'A193958')])]\n",
      "Multiple.m false\n",
      "Other.o false\n",
      "Single.s true\n",
      "tag1 A193958\n",
      "Update Databse for HIT A193958 None\n",
      "[OrderedDict([('QuestionIdentifier', 'Multiple.m'), ('FreeText', 'false')]), OrderedDict([('QuestionIdentifier', 'Other.o'), ('FreeText', 'false')]), OrderedDict([('QuestionIdentifier', 'Single.s'), ('FreeText', 'true')]), OrderedDict([('QuestionIdentifier', 'tag1'), ('FreeText', 'A193958')])]\n",
      "Multiple.m false\n",
      "Other.o false\n",
      "Single.s true\n",
      "tag1 A193958\n",
      "Update Databse for HIT A193958 None\n"
     ]
    }
   ],
   "source": [
    "# s3 = boto3.resource('s3')\n",
    "# tgt_bucket = s3.Bucket('pgdp-mturk-selected')\n",
    "\n",
    "for ele in mturk_client.list_reviewable_hits()['HITs']:\n",
    "    #hit=list(ele.keys())[0]\n",
    "    hit = ele['HITId']\n",
    "    m_assgn = mturk_client.list_assignments_for_hit(HITId=hit)['Assignments']\n",
    "    ans1=ans2=None\n",
    "    cnt=1\n",
    "    for assgn in m_assgn:\n",
    "        xml = assgn['Answer']\n",
    "        ans = xmltodict.parse(x)['QuestionFormAnswers']['Answer']\n",
    "        print(ans)\n",
    "        flag = False\n",
    "        for i in ans:\n",
    "            print(i['QuestionIdentifier'] +' '+ i['FreeText'])\n",
    "            if i['QuestionIdentifier'] == 'Single.s' and i['FreeText'] == 'true':\n",
    "                flag = True\n",
    "                continue\n",
    "\n",
    "            if flag and i['QuestionIdentifier'] == 'tag1':\n",
    "                if cnt == 1:\n",
    "                    ans1 = i['FreeText']\n",
    "                    cnt += 1\n",
    "                else:\n",
    "                    ans2 = i['FreeText']\n",
    "                print(\"Update Databse for HIT\", ans1 , ans2)\n",
    "    \n",
    "        if ans1 == ans2:\n",
    "            mturk_client.approve_assignment(AssignmentId=assgn['AssignmentId'])\n",
    "            #Update Status with labeled status\n",
    "        elif ans1!=None and ans2!=None:\n",
    "            mturk_client.reject_assignment(AssignmentId=assgn['AssignmentId'])\n",
    "        \n",
    "#     if class_ == \"Single\":\n",
    "#         tmp = tempfile.NamedTemporaryFile()\n",
    "#         with open('tmp.jpg', 'wb') as data:\n",
    "#             s3_client.download_fileobj(bucket, ele[hit], data)\n",
    "        \n",
    "#         with open('tmp.jpg', 'rb') as data:\n",
    "#             s3_client.upload_fileobj(data, target_bucket, ele[hit])"
   ]
  },
  {
   "cell_type": "code",
   "execution_count": null,
   "metadata": {},
   "outputs": [],
   "source": [
    "import requests\n",
    "import matplotlib.image as mpimg\n",
    "#import tempfile\n",
    "\n",
    "API_TOKEN='f0db6826198504391f83f27119219ae160757112'\n",
    "target_bucket='pgdp-mturk-selected'\n",
    "\n",
    "# resp=s3_client.list_objects_v2(Bucket=target_bucket)\n",
    "# for ele in resp['Contents']:\n",
    "#     print(ele['Key'])\n",
    "\n",
    "with open('tmp.jpg', 'wb') as data:\n",
    "    s3_client.download_fileobj(target_bucket, '11.jpg', data)\n",
    "    \n",
    "with open('tmp.jpg', 'rb') as data:\n",
    "    response = requests.post(\n",
    "            'https://api.platerecognizer.com/v1/plate-reader/',\n",
    "            files=dict(upload=data),\n",
    "            headers={'Authorization': f'Token {API_TOKEN}'}\n",
    "    )\n",
    "    "
   ]
  },
  {
   "cell_type": "code",
   "execution_count": 17,
   "metadata": {
    "scrolled": true
   },
   "outputs": [
    {
     "name": "stdout",
     "output_type": "stream",
     "text": [
      "{'camera_id': None,\n",
      " 'filename': '20_37_btmp.jpg',\n",
      " 'processing_time': 174.858,\n",
      " 'results': [{'box': {'xmax': 705, 'xmin': 18, 'ymax': 389, 'ymin': 73},\n",
      "              'candidates': [{'plate': '2rr168', 'score': 0.9},\n",
      "                             {'plate': '2rri68', 'score': 0.759},\n",
      "                             {'plate': '2rr16b', 'score': 0.758},\n",
      "                             {'plate': '2rri6b', 'score': 0.617}],\n",
      "              'dscore': 0.682,\n",
      "              'plate': '2rr168',\n",
      "              'score': 0.9,\n",
      "              'vehicle': {'type': 'Unknown'}}],\n",
      " 'timestamp': '2019-11-22T20:37:48.242635Z',\n",
      " 'version': 1}\n"
     ]
    }
   ],
   "source": [
    "pprint(response.json())"
   ]
  }
 ],
 "metadata": {
  "kernelspec": {
   "display_name": "Python 3",
   "language": "python",
   "name": "python3"
  },
  "language_info": {
   "codemirror_mode": {
    "name": "ipython",
    "version": 3
   },
   "file_extension": ".py",
   "mimetype": "text/x-python",
   "name": "python",
   "nbconvert_exporter": "python",
   "pygments_lexer": "ipython3",
   "version": "3.7.3"
  }
 },
 "nbformat": 4,
 "nbformat_minor": 2
}
